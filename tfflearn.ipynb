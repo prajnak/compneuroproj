{
 "cells": [
  {
   "cell_type": "code",
   "execution_count": 54,
   "metadata": {
    "collapsed": false
   },
   "outputs": [],
   "source": [
    "from sklearn import datasets, cross_validation, metrics\n",
    "import tensorflow as tf\n",
    "\n",
    "import skflow\n",
    "# from skflow import monitors\n",
    "from scipy import misc\n",
    "import os\n",
    "import numpy as np\n",
    "from scipy.stats import describe\n",
    "import matplotlib.pyplot as plt;\n",
    "%matplotlib inline"
   ]
  },
  {
   "cell_type": "code",
   "execution_count": 2,
   "metadata": {
    "collapsed": false,
    "scrolled": true
   },
   "outputs": [
    {
     "data": {
      "text/plain": [
       "(1797,)"
      ]
     },
     "execution_count": 2,
     "metadata": {},
     "output_type": "execute_result"
    }
   ],
   "source": [
    "digits = datasets.load_digits();\n",
    "digits['data'].shape # 1797x64 this things has 1797 images in 1-d vectors of size 64\n",
    "\n",
    "digits.images.shape # 1797x8x8\n",
    "digits.target.shape # labels for each image"
   ]
  },
  {
   "cell_type": "markdown",
   "metadata": {},
   "source": [
    "### Follow similar steps to load all the images as an array of MxN where N=256*256"
   ]
  },
  {
   "cell_type": "code",
   "execution_count": 35,
   "metadata": {
    "collapsed": true
   },
   "outputs": [],
   "source": [
    "emmap = {'0': 'NE',\n",
    "                      '1': 'AN', # Angry\n",
    "                      '2': 'CO', # contempt\n",
    "                      '3': 'DI', # disgust\n",
    "                      '4': 'AF', # afraid\n",
    "                      '5': 'HA', # happy\n",
    "                      '6': 'SA', # sad\n",
    "                      '7': 'SU', # surprised\n",
    "                      '8': 'NA'  # not available\n",
    "}\n",
    "emotion_map = dict(zip(emmap.values(),emmap.keys()));"
   ]
  },
  {
   "cell_type": "code",
   "execution_count": 4,
   "metadata": {
    "collapsed": false
   },
   "outputs": [
    {
     "name": "stdout",
     "output_type": "stream",
     "text": [
      "1401\n"
     ]
    }
   ],
   "source": [
    "from scipy.misc import imread\n",
    "inputDir = '/Users/pulsar/Documents/compneuroproj/cropped_images'\n",
    "onlyfiles = [f for f in os.listdir(inputDir) if os.path.isfile(os.path.join(inputDir, f))]\n",
    "print(len(onlyfiles))"
   ]
  },
  {
   "cell_type": "code",
   "execution_count": 113,
   "metadata": {
    "collapsed": false
   },
   "outputs": [],
   "source": [
    "from matplotlib import pyplot\n",
    "from PIL import Image\n",
    "i = 0;\n",
    "images = []\n",
    "for ff in onlyfiles:\n",
    "    try:\n",
    "        image = Image.open(inputDir+'/'+ff)\n",
    "        image = image.convert('RGB');\n",
    "        image = np.asarray(image, dtype='float32')\n",
    "        images.append(image);\n",
    "    except ValueError:\n",
    "        images.append(image);\n",
    "        continue\n",
    "    \n",
    "image.shape\n",
    "labels = []\n",
    "for ff in onlyfiles:\n",
    "    try:\n",
    "        labels.append(emotion_map[ff[5:7]])\n",
    "    except ValueError:\n",
    "        print ('oops');\n",
    "        break;\n",
    "labels = [int(l) for l in labels];\n",
    "labels = np.array([labels]).T"
   ]
  },
  {
   "cell_type": "code",
   "execution_count": 115,
   "metadata": {
    "collapsed": false
   },
   "outputs": [
    {
     "data": {
      "text/plain": [
       "(1401, 160, 160, 3)"
      ]
     },
     "execution_count": 115,
     "metadata": {},
     "output_type": "execute_result"
    }
   ],
   "source": [
    "np.array(images).shape"
   ]
  },
  {
   "cell_type": "code",
   "execution_count": 117,
   "metadata": {
    "collapsed": false
   },
   "outputs": [],
   "source": [
    "X = np.array(images);\n",
    "y = labels;\n",
    "\n",
    "# Split X into test and train sets\n",
    "X_train, X_test, y_train, y_test = cross_validation.train_test_split(X, y,\n",
    "                                        test_size=0.2, random_state=42)\n",
    "# Split X_train for validation data\n",
    "X_train, X_val, y_train, y_val = cross_validation.train_test_split(X_train, \n",
    "                                    y_train, test_size=0.2,random_state=42)\n",
    "X_train /= 255;\n",
    "X_test /= 255;"
   ]
  },
  {
   "cell_type": "code",
   "execution_count": 125,
   "metadata": {
    "collapsed": false
   },
   "outputs": [
    {
     "data": {
      "text/plain": [
       "(896, 160, 160, 3)"
      ]
     },
     "execution_count": 125,
     "metadata": {},
     "output_type": "execute_result"
    }
   ],
   "source": [
    "X_train.shape"
   ]
  },
  {
   "cell_type": "code",
   "execution_count": 86,
   "metadata": {
    "collapsed": false
   },
   "outputs": [],
   "source": [
    "from keras.models import Sequential\n",
    "from keras.layers.core import Dense, Dropout, Activation, Flatten\n",
    "from keras.layers.convolutional import Convolution2D, MaxPooling2D"
   ]
  },
  {
   "cell_type": "code",
   "execution_count": 129,
   "metadata": {
    "collapsed": false
   },
   "outputs": [
    {
     "data": {
      "text/plain": [
       "<keras.models.Sequential at 0x115239e10>"
      ]
     },
     "execution_count": 129,
     "metadata": {},
     "output_type": "execute_result"
    }
   ],
   "source": [
    "def make_network():\n",
    "    model = Sequential();\n",
    "    model.add(Convolution2D(160, 16, 16, border_mode='same', dim_ordering='tf',\n",
    "                           input_shape=(160, 160, 3)));\n",
    "    model.add(Activation('relu'));\n",
    "    model.add(Convolution2D(160, 16, 16))\n",
    "    model.add(Activation('relu'))\n",
    "    return model\n",
    "make_network()"
   ]
  }
 ],
 "metadata": {
  "hide_input": false,
  "kernelspec": {
   "display_name": "Python 3",
   "language": "python",
   "name": "python3"
  },
  "language_info": {
   "codemirror_mode": {
    "name": "ipython",
    "version": 3
   },
   "file_extension": ".py",
   "mimetype": "text/x-python",
   "name": "python",
   "nbconvert_exporter": "python",
   "pygments_lexer": "ipython3",
   "version": "3.5.1"
  },
  "latex_envs": {
   "bibliofile": "biblio.bib",
   "cite_by": "apalike",
   "current_citInitial": 1,
   "eqLabelWithNumbers": true,
   "eqNumInitial": 0
  }
 },
 "nbformat": 4,
 "nbformat_minor": 0
}
